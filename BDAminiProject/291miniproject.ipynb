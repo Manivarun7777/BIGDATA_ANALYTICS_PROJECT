{
 "cells": [
  {
   "cell_type": "markdown",
   "id": "516ac100-9a41-4a8c-965f-2a710f7fd01c",
   "metadata": {},
   "source": [
    "# K.MANI VARUN\n",
    "# 2211CS010291"
   ]
  },
  {
   "cell_type": "markdown",
   "id": "ce97422d-d4a2-49a3-9ffa-1d0e7361a5c1",
   "metadata": {},
   "source": [
    "# printing the spark version"
   ]
  },
  {
   "cell_type": "code",
   "execution_count": 1,
   "id": "b8330917-adbe-4e68-8af2-797518588fb5",
   "metadata": {},
   "outputs": [
    {
     "data": {
      "text/html": [
       "\n",
       "        <div>\n",
       "            <p><b>SparkContext</b></p>\n",
       "\n",
       "            <p><a href=\"http://VARUN7777:4041\">Spark UI</a></p>\n",
       "\n",
       "            <dl>\n",
       "              <dt>Version</dt>\n",
       "                <dd><code>v4.0.1</code></dd>\n",
       "              <dt>Master</dt>\n",
       "                <dd><code>local[*]</code></dd>\n",
       "              <dt>AppName</dt>\n",
       "                <dd><code>PySparkShell</code></dd>\n",
       "            </dl>\n",
       "        </div>\n",
       "        "
      ],
      "text/plain": [
       "<SparkContext master=local[*] appName=PySparkShell>"
      ]
     },
     "execution_count": 1,
     "metadata": {},
     "output_type": "execute_result"
    }
   ],
   "source": [
    "sc"
   ]
  },
  {
   "cell_type": "markdown",
   "id": "01384ca9-54f1-4977-ab13-147a22293157",
   "metadata": {},
   "source": [
    "# creating data frame vegetable\n"
   ]
  },
  {
   "cell_type": "code",
   "execution_count": 17,
   "id": "5b1d76ed-330d-4eee-9f18-7bb8eb110c08",
   "metadata": {},
   "outputs": [],
   "source": [
    "from pyspark.sql import SparkSession\n",
    "from pyspark.sql.functions import col, count,avg,countDistinct,expr,stddev\n",
    "import matplotlib.pyplot as plt\n",
    "import pandas as pd\n",
    "spark = SparkSession.builder.appName(\"vegetable\").getOrCreate()"
   ]
  },
  {
   "cell_type": "markdown",
   "id": "eee7a9ed-c146-4813-98a2-57f6287a0324",
   "metadata": {},
   "source": [
    "# loading dataset mandi.csv"
   ]
  },
  {
   "cell_type": "code",
   "execution_count": 18,
   "id": "17a7fc10-2678-4c39-a1d9-c15d0b6c1f7f",
   "metadata": {},
   "outputs": [],
   "source": [
    "df = spark.read.csv(\"mandi.csv\", header=True, inferSchema=True)"
   ]
  },
  {
   "cell_type": "code",
   "execution_count": 19,
   "id": "c2fe3ca8-3214-404c-ba6f-2a1f7e1fe085",
   "metadata": {},
   "outputs": [],
   "source": [
    "#summARY"
   ]
  },
  {
   "cell_type": "code",
   "execution_count": 20,
   "id": "7f9da8e6-9370-4f93-8f75-5ddf84f73f0e",
   "metadata": {},
   "outputs": [
    {
     "name": "stdout",
     "output_type": "stream",
     "text": [
      "+-------+--------------+----------+--------------+------------+----------------+-----+------------+-----------------+-----------------+-----------------+\n",
      "|summary|         State|  District|        Market|   Commodity|         Variety|Grade|Arrival_Date|  Min_x0020_Price|  Max_x0020_Price|Modal_x0020_Price|\n",
      "+-------+--------------+----------+--------------+------------+----------------+-----+------------+-----------------+-----------------+-----------------+\n",
      "|  count|          1370|      1370|          1370|        1370|            1370| 1370|        1370|             1370|             1370|             1370|\n",
      "|   mean|          NULL|      NULL|          NULL|        NULL|          1060.0| NULL|        NULL|3417.278102189781|4045.943795620438|3763.865693430657|\n",
      "| stddev|          NULL|      NULL|          NULL|        NULL|86.2670273047588| NULL|        NULL|3456.502056318581|4093.656369064894|3692.547242622293|\n",
      "|    min|Andhra Pradesh|Ahmednagar|         A lot|  Amaranthus|        1009 Kar|  FAQ|  30/09/2025|                0|                0|                5|\n",
      "|    max|   West Bengal|     Wokha|Zalod(Sanjeli)|Yam (Ratalu)|          Yellow|Small|  30/09/2025|            64500|            65300|            65000|\n",
      "+-------+--------------+----------+--------------+------------+----------------+-----+------------+-----------------+-----------------+-----------------+\n",
      "\n"
     ]
    }
   ],
   "source": [
    "df.describe().show()"
   ]
  },
  {
   "cell_type": "code",
   "execution_count": 21,
   "id": "66b40ca0-f224-4c15-bceb-8d490f6da278",
   "metadata": {},
   "outputs": [
    {
     "name": "stdout",
     "output_type": "stream",
     "text": [
      "=== First 10 rows ===\n",
      "+----------+----------------+--------------------+--------------------+--------------------+-------+------------+---------------+---------------+-----------------+\n",
      "|     State|        District|              Market|           Commodity|             Variety|  Grade|Arrival_Date|Min_x0020_Price|Max_x0020_Price|Modal_x0020_Price|\n",
      "+----------+----------------+--------------------+--------------------+--------------------+-------+------------+---------------+---------------+-----------------+\n",
      "|Chandigarh|      Chandigarh|Chandigarh(Grain/...|         Cauliflower|         Cauliflower|    FAQ|  30/09/2025|           3000|           5000|             4000|\n",
      "|Chandigarh|      Chandigarh|Chandigarh(Grain/...|       Ginger(Green)|               Other|    FAQ|  30/09/2025|           2000|           3500|             2800|\n",
      "|Chandigarh|      Chandigarh|Chandigarh(Grain/...|            Peas Wet|               Other|    FAQ|  30/09/2025|           5000|          10000|             8000|\n",
      "|   Gujarat|          Amreli|            Damnagar|             Cabbage|             Cabbage|    FAQ|  30/09/2025|           1650|           3050|             2600|\n",
      "|   Gujarat|         Bharuch|            Jambusar|              Cotton|               Other|    FAQ|  30/09/2025|           5800|           6200|             6000|\n",
      "|   Gujarat|  Chhota Udaipur|             Bodeliu|              Cotton|Shanker 6 (B) 30m...|    FAQ|  30/09/2025|           6870|           7001|             6940|\n",
      "|   Gujarat|          Rajkot|             Dhoraji|              Cotton|      H.B (Unginned)|Non-FAQ|  30/09/2025|           5805|           7680|             7055|\n",
      "|   Gujarat|   Surendranagar|       Dasada Patadi|Guar Seed(Cluster...|               Whole|    FAQ|  30/09/2025|           3750|           3850|             3840|\n",
      "|   Gujarat|Vadodara(Baroda)|               Padra|        Bitter gourd|               Other|    FAQ|  30/09/2025|           1500|           2250|             1900|\n",
      "|   Gujarat|Vadodara(Baroda)|               Padra|       Cluster beans|               Other|    FAQ|  30/09/2025|           6000|           7500|             6750|\n",
      "+----------+----------------+--------------------+--------------------+--------------------+-------+------------+---------------+---------------+-----------------+\n",
      "only showing top 10 rows\n"
     ]
    }
   ],
   "source": [
    "print(\"=== First 10 rows ===\")\n",
    "df.show(10)"
   ]
  },
  {
   "cell_type": "markdown",
   "id": "6d534da5-5f34-4c5b-9aae-0bf759069a3c",
   "metadata": {},
   "source": [
    "# What is the total number of records in the dataset"
   ]
  },
  {
   "cell_type": "code",
   "execution_count": 22,
   "id": "a508219b-25ec-4429-9168-7f3431a5155d",
   "metadata": {},
   "outputs": [
    {
     "name": "stdout",
     "output_type": "stream",
     "text": [
      "Total number of records: 1370\n"
     ]
    }
   ],
   "source": [
    "total_records = df.count()\n",
    "print(\"Total number of records:\", total_records)"
   ]
  },
  {
   "cell_type": "markdown",
   "id": "d0ff524c-3d8b-4fc7-8487-f914bcc06855",
   "metadata": {},
   "source": [
    "# Which states/regions have the highest and lowest number of mandi entries?"
   ]
  },
  {
   "cell_type": "code",
   "execution_count": 23,
   "id": "e70007ca-f06e-4f91-9ab0-4148f10b6d0d",
   "metadata": {},
   "outputs": [
    {
     "name": "stdout",
     "output_type": "stream",
     "text": [
      "+------+-----------+\n",
      "| State|entry_count|\n",
      "+------+-----------+\n",
      "|Kerala|        279|\n",
      "+------+-----------+\n",
      "\n",
      "+--------------+-----------+\n",
      "|         State|entry_count|\n",
      "+--------------+-----------+\n",
      "|Andhra Pradesh|          1|\n",
      "+--------------+-----------+\n",
      "\n"
     ]
    }
   ],
   "source": [
    "state_counts = df.groupBy(\"State\").agg(count(\"*\").alias(\"entry_count\"))\n",
    "\n",
    "highest_state = state_counts.orderBy(col(\"entry_count\").desc()).limit(1)\n",
    "highest_state.show()\n",
    "\n",
    "lowest_state = state_counts.orderBy(col(\"entry_count\").asc()).limit(1)\n",
    "lowest_state.show()"
   ]
  },
  {
   "cell_type": "markdown",
   "id": "51217eee-e1d4-42ba-8cd7-8aef90a4fb5a",
   "metadata": {},
   "source": [
    "#  the average price/value across all states?"
   ]
  },
  {
   "cell_type": "code",
   "execution_count": 24,
   "id": "2103dffd-c76c-4e21-bcd3-ffdb34c7db03",
   "metadata": {},
   "outputs": [
    {
     "name": "stdout",
     "output_type": "stream",
     "text": [
      "+-----------------+\n",
      "|    average_price|\n",
      "+-----------------+\n",
      "|3763.865693430657|\n",
      "+-----------------+\n",
      "\n"
     ]
    }
   ],
   "source": [
    "\n",
    "avg_price = df.select(avg(\"Modal_x0020_Price\").alias(\"average_price\"))\n",
    "avg_price.show()\n"
   ]
  },
  {
   "cell_type": "markdown",
   "id": "4860b45a-f29e-493f-b08a-43fc292e2e5d",
   "metadata": {},
   "source": [
    "# Which state has the maximum average price?"
   ]
  },
  {
   "cell_type": "code",
   "execution_count": 25,
   "id": "13dd9026-1912-48a1-a31d-9413d93a5b79",
   "metadata": {},
   "outputs": [
    {
     "name": "stdout",
     "output_type": "stream",
     "text": [
      "+--------+-----------------+\n",
      "|   State|        avg_price|\n",
      "+--------+-----------------+\n",
      "|Nagaland|7305.882352941177|\n",
      "+--------+-----------------+\n",
      "\n"
     ]
    }
   ],
   "source": [
    "\n",
    "df.groupBy(\"State\") \\\n",
    "  .agg(avg(\"Modal_x0020_Price\").alias(\"avg_price\")) \\\n",
    "  .orderBy(col(\"avg_price\").desc()) \\\n",
    "  .limit(1) \\\n",
    "  .show()"
   ]
  },
  {
   "cell_type": "markdown",
   "id": "2b2a39d5-212f-4a9a-8d1f-f98c80c86d87",
   "metadata": {},
   "source": [
    "# Which state has the minimum average price?"
   ]
  },
  {
   "cell_type": "code",
   "execution_count": 26,
   "id": "4b7d3755-6014-4ffc-b0b7-9073e3e29593",
   "metadata": {},
   "outputs": [
    {
     "name": "stdout",
     "output_type": "stream",
     "text": [
      "+-----+---------+\n",
      "|State|avg_price|\n",
      "+-----+---------+\n",
      "|Bihar|   2300.0|\n",
      "+-----+---------+\n",
      "\n"
     ]
    }
   ],
   "source": [
    "df.groupBy(\"State\") \\\n",
    "  .agg(avg(\"Modal_x0020_Price\").alias(\"avg_price\")) \\\n",
    "  .orderBy(col(\"avg_price\").asc()) \\\n",
    "  .limit(1) \\\n",
    "  .show()"
   ]
  },
  {
   "cell_type": "markdown",
   "id": "dd7ede1e-edcc-4a25-a951-f98e87ee2244",
   "metadata": {},
   "source": [
    "# What are the top 5 commodities with the highest average price?"
   ]
  },
  {
   "cell_type": "code",
   "execution_count": 32,
   "id": "f9926262-7afd-426f-a713-cbfb70c7c97e",
   "metadata": {},
   "outputs": [
    {
     "name": "stdout",
     "output_type": "stream",
     "text": [
      "+--------------------+---------+\n",
      "|           Commodity|avg_price|\n",
      "+--------------------+---------+\n",
      "|        Black pepper|  52000.0|\n",
      "|Arecanut(Betelnut...|  48954.0|\n",
      "|         Coconut Oil|  39000.0|\n",
      "|  Cummin Seed(Jeera)|  16925.0|\n",
      "|         Mustard Oil|  15400.0|\n",
      "+--------------------+---------+\n",
      "\n"
     ]
    }
   ],
   "source": [
    "top5_df=df.groupBy(\"Commodity\") \\\n",
    "  .agg(avg(\"Modal_x0020_Price\").alias(\"avg_price\")) \\\n",
    "  .orderBy(col(\"avg_price\").desc()) \\\n",
    "  .limit(5) \\\n",
    "  .show()"
   ]
  },
  {
   "cell_type": "code",
   "execution_count": 35,
   "id": "7dd7b551-d3b5-4606-ad2a-93147c689d8b",
   "metadata": {},
   "outputs": [
    {
     "data": {
      "image/png": "[encoded data removed]",
      "text/plain": [
       "<Figure size 800x500 with 1 Axes>"
      ]
     },
     "metadata": {},
     "output_type": "display_data"
    }
   ],
   "source": [
    "top5_df = df.groupBy(\"Commodity\") \\\n",
    "    .agg(avg(\"Modal_x0020_Price\").alias(\"avg_price\")) \\\n",
    "    .orderBy(col(\"avg_price\").desc()) \\\n",
    "    .limit(5)\n",
    "\n",
    "top5_pd = top5_df.toPandas()\n",
    "\n",
    "plt.figure(figsize=(8, 5))\n",
    "plt.bar(top5_pd[\"Commodity\"], top5_pd[\"avg_price\"], color=\"skyblue\")\n",
    "plt.xlabel(\"Commodity\")\n",
    "plt.ylabel(\"Average Price\")\n",
    "plt.title(\"Top 5 Commodities by Average Price\")\n",
    "plt.xticks(rotation=45)\n",
    "plt.show()"
   ]
  },
  {
   "cell_type": "markdown",
   "id": "c69806f7-5510-4694-9764-4000e4b9e980",
   "metadata": {},
   "source": [
    "# What are the bottom 5 commodities with the lowest average price"
   ]
  },
  {
   "cell_type": "code",
   "execution_count": 36,
   "id": "bf3299d3-7fee-47d7-a668-d214574417e0",
   "metadata": {},
   "outputs": [
    {
     "name": "stdout",
     "output_type": "stream",
     "text": [
      "+-------------+---------+\n",
      "|    Commodity|avg_price|\n",
      "+-------------+---------+\n",
      "| Mint(Pudina)|      5.0|\n",
      "|       Rajgir|     10.0|\n",
      "|  Onion Green|     15.0|\n",
      "|Methi(Leaves)|     15.0|\n",
      "|     Firewood|    320.0|\n",
      "+-------------+---------+\n",
      "\n"
     ]
    }
   ],
   "source": [
    "df.groupBy(\"Commodity\") \\\n",
    "  .agg(avg(\"Modal_x0020_Price\").alias(\"avg_price\")) \\\n",
    "  .orderBy(col(\"avg_price\").asc()) \\\n",
    "  .limit(5) \\\n",
    "  .show()"
   ]
  },
  {
   "cell_type": "code",
   "execution_count": 57,
   "id": "fd4f49fe-ece8-4091-91b6-9d905ed697a8",
   "metadata": {},
   "outputs": [
    {
     "data": {
      "image/png": "[encoded data removed]",
      "text/plain": [
       "<Figure size 800x500 with 1 Axes>"
      ]
     },
     "metadata": {},
     "output_type": "display_data"
    }
   ],
   "source": [
    "bottom5_pd = bottom5_df.toPandas()\n",
    "plt.figure(figsize=(8, 5))\n",
    "plt.bar(bottom5_pd[\"Commodity\"], bottom5_pd[\"avg_price\"], color=\"orange\")\n",
    "plt.xlabel(\"Commodity\")\n",
    "plt.ylabel(\"Average Price\")\n",
    "plt.title(\"Bottom 5 Commodities by Average Price\")\n",
    "plt.xticks(rotation=45)\n",
    "plt.show()"
   ]
  },
  {
   "cell_type": "markdown",
   "id": "319835ca-bb0a-42d9-9719-61218d71a013",
   "metadata": {},
   "source": [
    "# Which state has the maximum number of unique commodities"
   ]
  },
  {
   "cell_type": "code",
   "execution_count": 38,
   "id": "006544a0-bb74-432d-86cd-b9f1617124c5",
   "metadata": {},
   "outputs": [
    {
     "name": "stdout",
     "output_type": "stream",
     "text": [
      "+------+------------------+\n",
      "| State|unique_commodities|\n",
      "+------+------------------+\n",
      "|Kerala|                56|\n",
      "+------+------------------+\n",
      "\n"
     ]
    }
   ],
   "source": [
    "df.groupBy(\"State\") \\\n",
    "  .agg(countDistinct(\"Commodity\").alias(\"unique_commodities\")) \\\n",
    "  .orderBy(col(\"unique_commodities\").desc()) \\\n",
    "  .limit(1) \\\n",
    "  .show()"
   ]
  },
  {
   "cell_type": "markdown",
   "id": "ebdb54ab-31be-4a34-a282-d412b943463c",
   "metadata": {},
   "source": [
    "# Which commodity is most frequently listed in the dataset"
   ]
  },
  {
   "cell_type": "code",
   "execution_count": 39,
   "id": "6c1be8df-8c50-43cf-a20e-257aabcfb7f7",
   "metadata": {},
   "outputs": [
    {
     "name": "stdout",
     "output_type": "stream",
     "text": [
      "+---------+-----------+\n",
      "|Commodity|entry_count|\n",
      "+---------+-----------+\n",
      "|   Potato|         79|\n",
      "+---------+-----------+\n",
      "\n"
     ]
    }
   ],
   "source": [
    "df.groupBy(\"Commodity\") \\\n",
    "  .agg(count(\"*\").alias(\"entry_count\")) \\\n",
    "  .orderBy(col(\"entry_count\").desc()) \\\n",
    "  .limit(1) \\\n",
    "  .show()"
   ]
  },
  {
   "cell_type": "markdown",
   "id": "d04c99d0-b21b-464f-a614-54bcaf045f73",
   "metadata": {},
   "source": [
    "# What is the trend of average prices over time (if date column is present)"
   ]
  },
  {
   "cell_type": "code",
   "execution_count": 40,
   "id": "f4dc078d-7df2-43ae-9778-3c1505115693",
   "metadata": {},
   "outputs": [
    {
     "name": "stdout",
     "output_type": "stream",
     "text": [
      "+-------------------+-----------------+\n",
      "|       Arrival_Date|        avg_price|\n",
      "+-------------------+-----------------+\n",
      "|2025-09-30 00:00:00|3763.865693430657|\n",
      "+-------------------+-----------------+\n",
      "\n"
     ]
    }
   ],
   "source": [
    "df = df.withColumn(\"Arrival_Date\", expr(\"try_to_timestamp(Arrival_Date, 'dd/MM/yyyy')\"))\n",
    "df.filter(col(\"Arrival_Date\").isNotNull()) \\\n",
    "  .groupBy(\"Arrival_Date\") \\\n",
    "  .agg(avg(\"Modal_x0020_Price\").alias(\"avg_price\")) \\\n",
    "  .orderBy(\"Arrival_Date\") \\\n",
    "  .show()"
   ]
  },
  {
   "cell_type": "markdown",
   "id": "ad4f2baf-c976-496b-96d1-f5ef8dc653ea",
   "metadata": {},
   "source": [
    "# Which state shows the highest variation (std. deviation) in prices"
   ]
  },
  {
   "cell_type": "code",
   "execution_count": 41,
   "id": "6d38dbd6-d014-4398-8102-19fdd36d33de",
   "metadata": {},
   "outputs": [
    {
     "name": "stdout",
     "output_type": "stream",
     "text": [
      "+---------+-----------------+\n",
      "|    State|     price_stddev|\n",
      "+---------+-----------------+\n",
      "|Karnataka|9756.140969746413|\n",
      "+---------+-----------------+\n",
      "\n"
     ]
    }
   ],
   "source": [
    "df.groupBy(\"State\") \\\n",
    "  .agg(stddev(\"Modal_x0020_Price\").alias(\"price_stddev\")) \\\n",
    "  .orderBy(col(\"price_stddev\").desc()) \\\n",
    "  .limit(1) \\\n",
    "  .show()"
   ]
  },
  {
   "cell_type": "markdown",
   "id": "1cdfd518-8959-442a-a6ee-fe31010a1b21",
   "metadata": {},
   "source": [
    "# Which commodity has the most stable (least varying) price across markets"
   ]
  },
  {
   "cell_type": "code",
   "execution_count": 42,
   "id": "d119e9c1-bbd4-4394-84bd-3c5a2d2430f0",
   "metadata": {},
   "outputs": [
    {
     "name": "stdout",
     "output_type": "stream",
     "text": [
      "+---------+------------+\n",
      "|Commodity|price_stddev|\n",
      "+---------+------------+\n",
      "|Thondekai|        NULL|\n",
      "+---------+------------+\n",
      "\n"
     ]
    }
   ],
   "source": [
    "df_clean = df.withColumn(\"price_double\", col(\"Modal_x0020_Price\").cast(\"double\")) \\\n",
    "             .filter(col(\"price_double\").isNotNull())\n",
    "\n",
    "df_clean.groupBy(\"Commodity\") \\\n",
    "        .agg(stddev(\"price_double\").alias(\"price_stddev\")) \\\n",
    "        .orderBy(col(\"price_stddev\").asc()) \\\n",
    "        .limit(1) \\\n",
    "        .show()"
   ]
  },
  {
   "cell_type": "markdown",
   "id": "659fe455-0948-422c-b78f-986a1e9d0ff4",
   "metadata": {},
   "source": [
    "# What is the  mandi count per state"
   ]
  },
  {
   "cell_type": "code",
   "execution_count": 55,
   "id": "2765815d-a9a3-4d68-8fdd-ab8579ed7d4e",
   "metadata": {},
   "outputs": [
    {
     "name": "stdout",
     "output_type": "stream",
     "text": [
      "+-----------------+-----------+\n",
      "|            State|mandi_count|\n",
      "+-----------------+-----------+\n",
      "|           Kerala|        279|\n",
      "|    Uttar Pradesh|        244|\n",
      "| Himachal Pradesh|        179|\n",
      "|           Punjab|        111|\n",
      "|          Haryana|         97|\n",
      "|      Maharashtra|         91|\n",
      "|   Madhya Pradesh|         83|\n",
      "|          Gujarat|         61|\n",
      "|        Karnataka|         44|\n",
      "|      West Bengal|         39|\n",
      "|        Rajasthan|         38|\n",
      "|Jammu and Kashmir|         33|\n",
      "|           Odisha|         24|\n",
      "|         Nagaland|         17|\n",
      "|       Chandigarh|         14|\n",
      "|       Uttrakhand|          8|\n",
      "|        Telangana|          5|\n",
      "|            Bihar|          2|\n",
      "|   Andhra Pradesh|          1|\n",
      "+-----------------+-----------+\n",
      "\n"
     ]
    }
   ],
   "source": [
    "state_df = df.groupBy(\"State\") \\\n",
    "    .agg(count(\"*\").alias(\"mandi_count\")) \\\n",
    "    .orderBy(col(\"mandi_count\").desc())\n",
    "\n",
    "state_df.show()"
   ]
  },
  {
   "cell_type": "code",
   "execution_count": 56,
   "id": "e320aa93-ab8f-4e5f-86c4-c2b293155e80",
   "metadata": {},
   "outputs": [
    {
     "data": {
      "image/png": "[encoded data removed]",
      "text/plain": [
       "<Figure size 1200x600 with 1 Axes>"
      ]
     },
     "metadata": {},
     "output_type": "display_data"
    }
   ],
   "source": [
    "state_pd = state_df.toPandas()\n",
    "plt.figure(figsize=(12, 6))\n",
    "plt.bar(state_pd[\"State\"], state_pd[\"mandi_count\"], color=\"green\")\n",
    "plt.xlabel(\"State\")\n",
    "plt.ylabel(\"Mandi Count\")\n",
    "plt.title(\"Number of Mandis per State\")\n",
    "plt.xticks(rotation=90)\n",
    "plt.show()"
   ]
  },
  {
   "cell_type": "markdown",
   "id": "c117e029-9b62-485b-b3e0-40ba6f7e8055",
   "metadata": {},
   "source": [
    "# How many missing/invalid entries are there in price or commodity columns"
   ]
  },
  {
   "cell_type": "code",
   "execution_count": 58,
   "id": "66140702-0ed0-415f-ac2f-5e0ea0bebed4",
   "metadata": {},
   "outputs": [
    {
     "data": {
      "text/plain": [
       "0"
      ]
     },
     "execution_count": 58,
     "metadata": {},
     "output_type": "execute_result"
    }
   ],
   "source": [
    "\n",
    "df.filter(col(\"Modal_x0020_Price\").isNull() | col(\"Commodity\").isNull()).count()\n"
   ]
  },
  {
   "cell_type": "markdown",
   "id": "1c2d6980-131e-4f1b-a0b1-e088558d67d9",
   "metadata": {},
   "source": [
    "# Which state + commodity combination has the highest recorded price?\n"
   ]
  },
  {
   "cell_type": "code",
   "execution_count": 59,
   "id": "82178242-e41f-46ec-9750-ed69f223565e",
   "metadata": {},
   "outputs": [
    {
     "name": "stdout",
     "output_type": "stream",
     "text": [
      "+------+------------+------------+\n",
      "| State|   Commodity|price_double|\n",
      "+------+------------+------------+\n",
      "|Kerala|Black pepper|     65000.0|\n",
      "+------+------------+------------+\n",
      "\n"
     ]
    }
   ],
   "source": [
    "df.withColumn(\"price_double\", col(\"Modal_x0020_Price\").cast(\"double\")) \\\n",
    "  .filter(col(\"price_double\").isNotNull()) \\\n",
    "  .orderBy(col(\"price_double\").desc()) \\\n",
    "  .select(\"State\", \"Commodity\", \"price_double\") \\\n",
    "  .limit(1) \\\n",
    "  .show()"
   ]
  },
  {
   "cell_type": "code",
   "execution_count": null,
   "id": "a0d1ed89-76f6-4a2a-96b4-225dcec98f1a",
   "metadata": {},
   "outputs": [],
   "source": []
  }
 ],
 "metadata": {
  "kernelspec": {
   "display_name": "Python 3 (ipykernel)",
   "language": "python",
   "name": "python3"
  },
  "language_info": {
   "codemirror_mode": {
    "name": "ipython",
    "version": 3
   },
   "file_extension": ".py",
   "mimetype": "text/x-python",
   "name": "python",
   "nbconvert_exporter": "python",
   "pygments_lexer": "ipython3",
   "version": "3.11.9"
  }
 },
 "nbformat": 4,
 "nbformat_minor": 5
}
